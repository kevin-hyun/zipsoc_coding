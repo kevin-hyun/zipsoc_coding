{
 "cells": [
  {
   "cell_type": "code",
   "execution_count": 26,
   "metadata": {},
   "outputs": [],
   "source": [
    "from matplotlib_venn import venn2, venn2_circles, venn2_unweighted\n",
    "from matplotlib_venn import venn3, venn3_circles\n",
    "from matplotlib import pyplot as plt \n",
    "%matplotlib inline\n"
   ]
  },
  {
   "cell_type": "code",
   "execution_count": 4,
   "metadata": {},
   "outputs": [
    {
     "data": {
      "text/plain": [
       "<matplotlib_venn._common.VennDiagram at 0x7f8e01507f70>"
      ]
     },
     "execution_count": 4,
     "metadata": {},
     "output_type": "execute_result"
    },
    {
     "data": {
      "image/png": "[encoded data removed]",
      "text/plain": [
       "<Figure size 432x288 with 1 Axes>"
      ]
     },
     "metadata": {},
     "output_type": "display_data"
    }
   ],
   "source": [
    "venn2(subsets = (30,10,5), set_labels = ('Group A','Group B'))"
   ]
  },
  {
   "cell_type": "code",
   "execution_count": 8,
   "metadata": {},
   "outputs": [],
   "source": [
    "### excel data load ## \n",
    "\n",
    "\n",
    "import pandas as pd \n",
    "df = pd.read_excel(io = \"/Users/mac/Downloads/DB구성.xlsx\",sheet_name = \"Customer\",index_col = \"customer_id\")\n",
    "\n",
    "problem1 = df['문제점1'].tolist()\n",
    "problem2 = df['문제점2'].tolist()\n",
    "\n",
    "\n"
   ]
  },
  {
   "cell_type": "code",
   "execution_count": 32,
   "metadata": {
    "scrolled": true
   },
   "outputs": [
    {
     "ename": "SyntaxError",
     "evalue": "unexpected EOF while parsing (<ipython-input-32-feb05118c687>, line 29)",
     "output_type": "error",
     "traceback": [
      "\u001b[0;36m  File \u001b[0;32m\"<ipython-input-32-feb05118c687>\"\u001b[0;36m, line \u001b[0;32m29\u001b[0m\n\u001b[0;31m    \u001b[0m\n\u001b[0m    ^\u001b[0m\n\u001b[0;31mSyntaxError\u001b[0m\u001b[0;31m:\u001b[0m unexpected EOF while parsing\n"
     ]
    }
   ],
   "source": [
    "# select certain row with some condtion\n",
    "\n",
    "\n",
    "\n",
    "\n",
    "\n",
    "## single \n",
    "\n",
    "\n",
    "No_parentname = df.loc[(df['문제점1']=='부모이름')]\n",
    "\n",
    "No_childname = df.loc[(df['문제점1']=='아이이름')]\n",
    "\n",
    "No_address = df.loc[(df['문제점1']=='주소')]\n",
    "\n",
    "## double\n",
    "No_parentname_address = df.loc[(df['문제점1']=='부모이름') & (df['문제점2']=='주소')]\n",
    "\n",
    "No_childname_address = df.loc[(df['문제점1']=='아이이름') & (df['문제점2']=='주소')]\n",
    "No_address_childname = df.loc[(df['문제점1']=='주소') & (df['문제점2']=='아이이름')]\n",
    "No_address_parentname = df.loc[(df['문제점1']=='주소') & (df['문제점2']=='부모이름')]\n",
    "\n",
    "\n",
    "\n",
    "#len (No_childname )-- > 행 갯수 세기\n",
    "print(len(No_address_childname = df.loc[(df['문제점1']=='주소') & (df['문제점2']=='아이이름')]),len(No_address_parentname = df.loc[(df['문제점1']=='주소') & (df['문제점2']=='부모이름')])\n",
    "      \n",
    "\n",
    "\n",
    "\n",
    "\n",
    "\n"
   ]
  },
  {
   "cell_type": "code",
   "execution_count": 37,
   "metadata": {},
   "outputs": [
    {
     "name": "stdout",
     "output_type": "stream",
     "text": [
      "218 127\n"
     ]
    }
   ],
   "source": [
    "##33 function \n",
    "\n",
    "def count_row (Variable, colname, condition):\n",
    "    Variable = df.loc[(df[colname] == condition)]\n",
    "\n",
    "    return len(Variable)\n",
    "\n",
    "def count_rows (Variable, colname1, condition1, colname2, condtion2):\n",
    "    Variable = df.loc[(df[colname1] == condition1) & (df[colname2] == condtion2)]\n",
    "\n",
    "    return len(Variable)\n",
    "\n",
    "\n",
    "     \n",
    "        \n",
    "## single \n",
    "\n",
    "\n",
    "num_P = count_row(No_parentname,'문제점1','부모이름')\n",
    "num_C = count_row(No_childname,'문제점1','아이이름')\n",
    "num_A = count_row(No_address,'문제점1','주소')\n",
    "\n",
    "\n",
    "## double\n",
    "num_inter_PA = count_rows(No_parentname_address,'문제점1','부모이름', '문제점2', '주소')\n",
    "num_inter_CA = count_rows(No_parentname,'문제점1','아이이름', '문제점2', '주소')\n",
    "\n",
    "\n",
    "\n",
    "\n",
    "\n",
    "print(len(No_address_childname),len(No_address_parentname))\n",
    "\n"
   ]
  },
  {
   "cell_type": "code",
   "execution_count": 41,
   "metadata": {},
   "outputs": [
    {
     "name": "stdout",
     "output_type": "stream",
     "text": [
      "218 127\n"
     ]
    },
    {
     "data": {
      "text/html": [
       "<div>\n",
       "<style scoped>\n",
       "    .dataframe tbody tr th:only-of-type {\n",
       "        vertical-align: middle;\n",
       "    }\n",
       "\n",
       "    .dataframe tbody tr th {\n",
       "        vertical-align: top;\n",
       "    }\n",
       "\n",
       "    .dataframe thead th {\n",
       "        text-align: right;\n",
       "    }\n",
       "</style>\n",
       "<table border=\"1\" class=\"dataframe\">\n",
       "  <thead>\n",
       "    <tr style=\"text-align: right;\">\n",
       "      <th></th>\n",
       "      <th>name</th>\n",
       "      <th>phone</th>\n",
       "      <th>address</th>\n",
       "      <th>child1</th>\n",
       "      <th>child2</th>\n",
       "      <th>supporter</th>\n",
       "      <th>demo_class</th>\n",
       "      <th>check</th>\n",
       "      <th>문제점1</th>\n",
       "      <th>문제점2</th>\n",
       "    </tr>\n",
       "    <tr>\n",
       "      <th>customer_id</th>\n",
       "      <th></th>\n",
       "      <th></th>\n",
       "      <th></th>\n",
       "      <th></th>\n",
       "      <th></th>\n",
       "      <th></th>\n",
       "      <th></th>\n",
       "      <th></th>\n",
       "      <th></th>\n",
       "      <th></th>\n",
       "    </tr>\n",
       "  </thead>\n",
       "  <tbody>\n",
       "    <tr>\n",
       "      <th>NaN</th>\n",
       "      <td>♡현정</td>\n",
       "      <td>01047935802</td>\n",
       "      <td></td>\n",
       "      <td>NaN</td>\n",
       "      <td>NaN</td>\n",
       "      <td>NaN</td>\n",
       "      <td>NaN</td>\n",
       "      <td>False</td>\n",
       "      <td>부모이름</td>\n",
       "      <td>주소</td>\n",
       "    </tr>\n",
       "    <tr>\n",
       "      <th>NaN</th>\n",
       "      <td>Kwak New</td>\n",
       "      <td>01086140326</td>\n",
       "      <td>경기도 성남시 분당구 운중로243번길 13 (판교동) 403호 FSQ</td>\n",
       "      <td>유정</td>\n",
       "      <td>NaN</td>\n",
       "      <td>NaN</td>\n",
       "      <td>NaN</td>\n",
       "      <td>False</td>\n",
       "      <td>부모이름</td>\n",
       "      <td>NaN</td>\n",
       "    </tr>\n",
       "    <tr>\n",
       "      <th>NaN</th>\n",
       "      <td>Shin</td>\n",
       "      <td>01035061656</td>\n",
       "      <td>경기도 성남시 분당구 서판교로 29 (판교동, 판교원마을한림풀에버아파트) 916-304호</td>\n",
       "      <td>이현재</td>\n",
       "      <td>NaN</td>\n",
       "      <td>NaN</td>\n",
       "      <td>NaN</td>\n",
       "      <td>False</td>\n",
       "      <td>부모이름</td>\n",
       "      <td>NaN</td>\n",
       "    </tr>\n",
       "    <tr>\n",
       "      <th>NaN</th>\n",
       "      <td>혜선</td>\n",
       "      <td>01083896232</td>\n",
       "      <td></td>\n",
       "      <td>NaN</td>\n",
       "      <td>NaN</td>\n",
       "      <td>NaN</td>\n",
       "      <td>NaN</td>\n",
       "      <td>False</td>\n",
       "      <td>부모이름</td>\n",
       "      <td>주소</td>\n",
       "    </tr>\n",
       "    <tr>\n",
       "      <th>NaN</th>\n",
       "      <td>하준하민맘</td>\n",
       "      <td>01024373404</td>\n",
       "      <td>전라북도 완주군 봉동읍 봉비로 176 (제일 오투그란데) 110동503호</td>\n",
       "      <td>김하준</td>\n",
       "      <td>김하민</td>\n",
       "      <td>NaN</td>\n",
       "      <td>NaN</td>\n",
       "      <td>False</td>\n",
       "      <td>부모이름</td>\n",
       "      <td>NaN</td>\n",
       "    </tr>\n",
       "    <tr>\n",
       "      <th>...</th>\n",
       "      <td>...</td>\n",
       "      <td>...</td>\n",
       "      <td>...</td>\n",
       "      <td>...</td>\n",
       "      <td>...</td>\n",
       "      <td>...</td>\n",
       "      <td>...</td>\n",
       "      <td>...</td>\n",
       "      <td>...</td>\n",
       "      <td>...</td>\n",
       "    </tr>\n",
       "    <tr>\n",
       "      <th>NaN</th>\n",
       "      <td>수익투게더</td>\n",
       "      <td>01093874614</td>\n",
       "      <td></td>\n",
       "      <td>NaN</td>\n",
       "      <td>NaN</td>\n",
       "      <td>NaN</td>\n",
       "      <td>NaN</td>\n",
       "      <td>False</td>\n",
       "      <td>부모이름</td>\n",
       "      <td>주소</td>\n",
       "    </tr>\n",
       "    <tr>\n",
       "      <th>NaN</th>\n",
       "      <td>ㆍ</td>\n",
       "      <td>01046966907</td>\n",
       "      <td></td>\n",
       "      <td>NaN</td>\n",
       "      <td>NaN</td>\n",
       "      <td>NaN</td>\n",
       "      <td>NaN</td>\n",
       "      <td>False</td>\n",
       "      <td>부모이름</td>\n",
       "      <td>주소</td>\n",
       "    </tr>\n",
       "    <tr>\n",
       "      <th>NaN</th>\n",
       "      <td>ruha</td>\n",
       "      <td>01054193545</td>\n",
       "      <td></td>\n",
       "      <td>NaN</td>\n",
       "      <td>NaN</td>\n",
       "      <td>NaN</td>\n",
       "      <td>NaN</td>\n",
       "      <td>False</td>\n",
       "      <td>부모이름</td>\n",
       "      <td>주소</td>\n",
       "    </tr>\n",
       "    <tr>\n",
       "      <th>NaN</th>\n",
       "      <td>너무 닮은 너희들</td>\n",
       "      <td>01079790116</td>\n",
       "      <td></td>\n",
       "      <td>NaN</td>\n",
       "      <td>NaN</td>\n",
       "      <td>NaN</td>\n",
       "      <td>NaN</td>\n",
       "      <td>False</td>\n",
       "      <td>부모이름</td>\n",
       "      <td>주소</td>\n",
       "    </tr>\n",
       "    <tr>\n",
       "      <th>NaN</th>\n",
       "      <td>JmePark</td>\n",
       "      <td>04-604-1731</td>\n",
       "      <td></td>\n",
       "      <td>NaN</td>\n",
       "      <td>NaN</td>\n",
       "      <td>NaN</td>\n",
       "      <td>NaN</td>\n",
       "      <td>False</td>\n",
       "      <td>부모이름</td>\n",
       "      <td>주소</td>\n",
       "    </tr>\n",
       "  </tbody>\n",
       "</table>\n",
       "<p>248 rows × 10 columns</p>\n",
       "</div>"
      ],
      "text/plain": [
       "                   name        phone  \\\n",
       "customer_id                            \n",
       "NaN                ♡현정   01047935802   \n",
       "NaN           Kwak New   01086140326   \n",
       "NaN               Shin   01035061656   \n",
       "NaN                 혜선   01083896232   \n",
       "NaN              하준하민맘   01024373404   \n",
       "...                 ...          ...   \n",
       "NaN              수익투게더   01093874614   \n",
       "NaN                  ㆍ   01046966907   \n",
       "NaN               ruha   01054193545   \n",
       "NaN          너무 닮은 너희들   01079790116   \n",
       "NaN            JmePark   04-604-1731   \n",
       "\n",
       "                                                       address child1 child2  \\\n",
       "customer_id                                                                    \n",
       "NaN                                                               NaN    NaN   \n",
       "NaN                     경기도 성남시 분당구 운중로243번길 13 (판교동) 403호 FSQ     유정    NaN   \n",
       "NaN          경기도 성남시 분당구 서판교로 29 (판교동, 판교원마을한림풀에버아파트) 916-304호    이현재    NaN   \n",
       "NaN                                                               NaN    NaN   \n",
       "NaN                   전라북도 완주군 봉동읍 봉비로 176 (제일 오투그란데) 110동503호    김하준    김하민   \n",
       "...                                                        ...    ...    ...   \n",
       "NaN                                                               NaN    NaN   \n",
       "NaN                                                               NaN    NaN   \n",
       "NaN                                                               NaN    NaN   \n",
       "NaN                                                               NaN    NaN   \n",
       "NaN                                                               NaN    NaN   \n",
       "\n",
       "            supporter demo_class  check  문제점1 문제점2  \n",
       "customer_id                                         \n",
       "NaN               NaN        NaN  False  부모이름   주소  \n",
       "NaN               NaN        NaN  False  부모이름  NaN  \n",
       "NaN               NaN        NaN  False  부모이름  NaN  \n",
       "NaN               NaN        NaN  False  부모이름   주소  \n",
       "NaN               NaN        NaN  False  부모이름  NaN  \n",
       "...               ...        ...    ...   ...  ...  \n",
       "NaN               NaN        NaN  False  부모이름   주소  \n",
       "NaN               NaN        NaN  False  부모이름   주소  \n",
       "NaN               NaN        NaN  False  부모이름   주소  \n",
       "NaN               NaN        NaN  False  부모이름   주소  \n",
       "NaN               NaN        NaN  False  부모이름   주소  \n",
       "\n",
       "[248 rows x 10 columns]"
      ]
     },
     "execution_count": 41,
     "metadata": {},
     "output_type": "execute_result"
    }
   ],
   "source": [
    "### more reproducible function  --> len expreessed out of the function // to get the info \n",
    "\n",
    "\n",
    "def select_row (Variable, colname, condition):\n",
    "    Variable = df.loc[(df[colname] == condition)]\n",
    "\n",
    "    return Variable\n",
    "\n",
    "def select_rows (Variable, colname1, condition1, colname2, condtion2):\n",
    "    Variable = df.loc[(df[colname1] == condition1) & (df[colname2] == condtion2)]\n",
    "\n",
    "    return Variable\n",
    "\n",
    "\n",
    "     \n",
    "        \n",
    "## single \n",
    "\n",
    "\n",
    "selected_P = select_row(No_parentname,'문제점1','부모이름')\n",
    "selected_C = select_row(No_childname,'문제점1','아이이름')\n",
    "selected_A = select_row(No_address,'문제점1','주소')\n",
    "\n",
    "\n",
    "## double\n",
    "selected_inter_PA = select_rows(No_parentname_address,'문제점1','부모이름', '문제점2', '주소')\n",
    "selected_inter_CA = select_rows(No_parentname,'문제점1','아이이름', '문제점2', '주소')\n",
    "\n",
    "\n",
    "print(len(selected_inter_PA), len(selected_inter_CA))\n",
    "\n",
    "selected_P\n",
    "\n",
    "\n"
   ]
  },
  {
   "cell_type": "code",
   "execution_count": 27,
   "metadata": {},
   "outputs": [
    {
     "data": {
      "text/plain": [
       "<matplotlib_venn._common.VennDiagram at 0x7fce78797f40>"
      ]
     },
     "execution_count": 27,
     "metadata": {},
     "output_type": "execute_result"
    },
    {
     "data": {
      "image/png": "[encoded data removed]",
      "text/plain": [
       "<Figure size 432x288 with 1 Axes>"
      ]
     },
     "metadata": {},
     "output_type": "display_data"
    }
   ],
   "source": [
    "#apply to venn\n",
    "\n",
    "\n",
    "venn2(subsets = (len(No_parentname)-len(No_parentname_address),len(No_address),len(No_parentname_address)), set_labels = ('No_parentname','No_address'))\n"
   ]
  },
  {
   "cell_type": "code",
   "execution_count": 28,
   "metadata": {},
   "outputs": [
    {
     "data": {
      "text/plain": [
       "<matplotlib_venn._common.VennDiagram at 0x7fce77142070>"
      ]
     },
     "execution_count": 28,
     "metadata": {},
     "output_type": "execute_result"
    },
    {
     "data": {
      "image/png": "[encoded data removed]",
      "text/plain": [
       "<Figure size 432x288 with 1 Axes>"
      ]
     },
     "metadata": {},
     "output_type": "display_data"
    }
   ],
   "source": [
    "\n",
    "venn2(subsets = (len(No_childname)-len(No_childname_address),len(No_address),len(No_childname_address)), set_labels = ('No_childname','No_address'))"
   ]
  },
  {
   "cell_type": "code",
   "execution_count": 44,
   "metadata": {
    "scrolled": true
   },
   "outputs": [
    {
     "ename": "TypeError",
     "evalue": "object of type 'int' has no len()",
     "output_type": "error",
     "traceback": [
      "\u001b[0;31m---------------------------------------------------------------------------\u001b[0m",
      "\u001b[0;31mTypeError\u001b[0m                                 Traceback (most recent call last)",
      "\u001b[0;32m<ipython-input-44-6260e4f7d98a>\u001b[0m in \u001b[0;36m<module>\u001b[0;34m\u001b[0m\n\u001b[1;32m      1\u001b[0m \u001b[0mAllTrue\u001b[0m \u001b[0;34m=\u001b[0m \u001b[0mlen\u001b[0m\u001b[0;34m(\u001b[0m\u001b[0mdf\u001b[0m\u001b[0;34m.\u001b[0m\u001b[0mloc\u001b[0m\u001b[0;34m[\u001b[0m\u001b[0;34m(\u001b[0m\u001b[0mdf\u001b[0m\u001b[0;34m[\u001b[0m\u001b[0;34m'check'\u001b[0m\u001b[0;34m]\u001b[0m\u001b[0;34m==\u001b[0m\u001b[0;32mTrue\u001b[0m\u001b[0;34m)\u001b[0m\u001b[0;34m]\u001b[0m\u001b[0;34m)\u001b[0m\u001b[0;34m\u001b[0m\u001b[0;34m\u001b[0m\u001b[0m\n\u001b[1;32m      2\u001b[0m \u001b[0;34m\u001b[0m\u001b[0m\n\u001b[0;32m----> 3\u001b[0;31m \u001b[0mvenn2\u001b[0m\u001b[0;34m(\u001b[0m\u001b[0msubsets\u001b[0m \u001b[0;34m=\u001b[0m \u001b[0;34m(\u001b[0m\u001b[0mAllTrue\u001b[0m\u001b[0;34m)\u001b[0m\u001b[0;34m,\u001b[0m\u001b[0mset_labels\u001b[0m  \u001b[0;34m=\u001b[0m \u001b[0;34m(\u001b[0m\u001b[0;34m\"AllTrue\"\u001b[0m\u001b[0;34m)\u001b[0m\u001b[0;34m)\u001b[0m\u001b[0;34m\u001b[0m\u001b[0;34m\u001b[0m\u001b[0m\n\u001b[0m",
      "\u001b[0;32m~/opt/anaconda3/lib/python3.8/site-packages/matplotlib_venn/_venn2.py\u001b[0m in \u001b[0;36mvenn2\u001b[0;34m(subsets, set_labels, set_colors, alpha, normalize_to, ax, subset_label_formatter)\u001b[0m\n\u001b[1;32m    221\u001b[0m     \u001b[0;32mif\u001b[0m \u001b[0misinstance\u001b[0m\u001b[0;34m(\u001b[0m\u001b[0msubsets\u001b[0m\u001b[0;34m,\u001b[0m \u001b[0mdict\u001b[0m\u001b[0;34m)\u001b[0m\u001b[0;34m:\u001b[0m\u001b[0;34m\u001b[0m\u001b[0;34m\u001b[0m\u001b[0m\n\u001b[1;32m    222\u001b[0m         \u001b[0msubsets\u001b[0m \u001b[0;34m=\u001b[0m \u001b[0;34m[\u001b[0m\u001b[0msubsets\u001b[0m\u001b[0;34m.\u001b[0m\u001b[0mget\u001b[0m\u001b[0;34m(\u001b[0m\u001b[0mt\u001b[0m\u001b[0;34m,\u001b[0m \u001b[0;36m0\u001b[0m\u001b[0;34m)\u001b[0m \u001b[0;32mfor\u001b[0m \u001b[0mt\u001b[0m \u001b[0;32min\u001b[0m \u001b[0;34m[\u001b[0m\u001b[0;34m'10'\u001b[0m\u001b[0;34m,\u001b[0m \u001b[0;34m'01'\u001b[0m\u001b[0;34m,\u001b[0m \u001b[0;34m'11'\u001b[0m\u001b[0;34m]\u001b[0m\u001b[0;34m]\u001b[0m\u001b[0;34m\u001b[0m\u001b[0;34m\u001b[0m\u001b[0m\n\u001b[0;32m--> 223\u001b[0;31m     \u001b[0;32melif\u001b[0m \u001b[0mlen\u001b[0m\u001b[0;34m(\u001b[0m\u001b[0msubsets\u001b[0m\u001b[0;34m)\u001b[0m \u001b[0;34m==\u001b[0m \u001b[0;36m2\u001b[0m\u001b[0;34m:\u001b[0m\u001b[0;34m\u001b[0m\u001b[0;34m\u001b[0m\u001b[0m\n\u001b[0m\u001b[1;32m    224\u001b[0m         \u001b[0msubsets\u001b[0m \u001b[0;34m=\u001b[0m \u001b[0mcompute_venn2_subsets\u001b[0m\u001b[0;34m(\u001b[0m\u001b[0;34m*\u001b[0m\u001b[0msubsets\u001b[0m\u001b[0;34m)\u001b[0m\u001b[0;34m\u001b[0m\u001b[0;34m\u001b[0m\u001b[0m\n\u001b[1;32m    225\u001b[0m \u001b[0;34m\u001b[0m\u001b[0m\n",
      "\u001b[0;31mTypeError\u001b[0m: object of type 'int' has no len()"
     ]
    }
   ],
   "source": [
    "AllTrue = len(df.loc[(df['check']==True)])\n",
    "\n",
    "venn2(subsets = (AllTrue),set_labels  = (\"AllTrue\"))\n",
    "\n",
    "## one group is impossible to make diagram\n",
    "\n"
   ]
  },
  {
   "cell_type": "code",
   "execution_count": 45,
   "metadata": {},
   "outputs": [
    {
     "ename": "SyntaxError",
     "evalue": "invalid syntax (<ipython-input-45-bd64c47d72c8>, line 3)",
     "output_type": "error",
     "traceback": [
      "\u001b[0;36m  File \u001b[0;32m\"<ipython-input-45-bd64c47d72c8>\"\u001b[0;36m, line \u001b[0;32m3\u001b[0m\n\u001b[0;31m    usuable_information =\u001b[0m\n\u001b[0m                          ^\u001b[0m\n\u001b[0;31mSyntaxError\u001b[0m\u001b[0;31m:\u001b[0m invalid syntax\n"
     ]
    }
   ],
   "source": [
    "### usable information \n",
    "\n",
    "usuable_information = \n",
    "\n",
    "\n"
   ]
  },
  {
   "cell_type": "code",
   "execution_count": null,
   "metadata": {},
   "outputs": [],
   "source": []
  }
 ],
 "metadata": {
  "kernelspec": {
   "display_name": "Python 3",
   "language": "python",
   "name": "python3"
  },
  "language_info": {
   "codemirror_mode": {
    "name": "ipython",
    "version": 3
   },
   "file_extension": ".py",
   "mimetype": "text/x-python",
   "name": "python",
   "nbconvert_exporter": "python",
   "pygments_lexer": "ipython3",
   "version": "3.8.5"
  }
 },
 "nbformat": 4,
 "nbformat_minor": 4
}
